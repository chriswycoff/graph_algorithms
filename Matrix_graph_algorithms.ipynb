{
  "nbformat": 4,
  "nbformat_minor": 0,
  "metadata": {
    "colab": {
      "name": "Matrix_graph_algorithms.ipynb",
      "provenance": [],
      "collapsed_sections": []
    },
    "kernelspec": {
      "name": "python3",
      "display_name": "Python 3"
    }
  },
  "cells": [
    {
      "cell_type": "code",
      "metadata": {
        "id": "wJ9KB1ONR5t0",
        "colab_type": "code",
        "colab": {}
      },
      "source": [
        "import numpy as np\n",
        "import matplotlib.pyplot as plt\n",
        "import math"
      ],
      "execution_count": 0,
      "outputs": []
    },
    {
      "cell_type": "code",
      "metadata": {
        "id": "qksC4ezYhPAY",
        "colab_type": "code",
        "colab": {}
      },
      "source": [
        "aj_m = np.matrix([[0,1,0,0],\n",
        "                  [0,0,1,0],\n",
        "                  [0,0,0,1],\n",
        "                  [0,0,0,0]])"
      ],
      "execution_count": 0,
      "outputs": []
    },
    {
      "cell_type": "code",
      "metadata": {
        "id": "qscRv9ofiOhB",
        "colab_type": "code",
        "outputId": "f07043cf-cdc7-4f8a-a51e-fccab7bf75e3",
        "colab": {
          "base_uri": "https://localhost:8080/",
          "height": 85
        }
      },
      "source": [
        "aj_m"
      ],
      "execution_count": 146,
      "outputs": [
        {
          "output_type": "execute_result",
          "data": {
            "text/plain": [
              "matrix([[0, 1, 0, 0],\n",
              "        [0, 0, 1, 0],\n",
              "        [0, 0, 0, 1],\n",
              "        [0, 1, 0, 0]])"
            ]
          },
          "metadata": {
            "tags": []
          },
          "execution_count": 146
        }
      ]
    },
    {
      "cell_type": "code",
      "metadata": {
        "id": "2YgXFIsaiY8D",
        "colab_type": "code",
        "colab": {}
      },
      "source": [
        "# Transitive closure Algorithm for k-hop path\n",
        "# k-hop = N-1 outer 4 loops. This is because the original D^(1)...\n",
        "# graph represents the '1-hop' paths so e.g for N = 4 we need 3 more loops to find D^(4)\n",
        "\n",
        "def transitive_closure_n_hops(aj_m, n_hop):\n",
        "  the_len = len(aj_m)\n",
        "  \n",
        "  aj_m_prev = aj_m\n",
        "  \n",
        "  for i in range(n_hop-1):\n",
        "    aj_m_c = np.matrix([[0]*the_len]*the_len)\n",
        "    for row in range(the_len):\n",
        "      for col in range(the_len):\n",
        "        for k in range(the_len):\n",
        "          aj_m_c[row,col] = aj_m_c[row,col] or (aj_m[row,k] and aj_m_prev[k,col])\n",
        "    aj_m_prev = aj_m_c\n",
        "\n",
        "  return aj_m_prev\n",
        "\n",
        "\n",
        "  "
      ],
      "execution_count": 0,
      "outputs": []
    },
    {
      "cell_type": "code",
      "metadata": {
        "id": "RmHT5041jZv1",
        "colab_type": "code",
        "outputId": "d636ebd5-3787-4dd7-e03f-f7d9fcc931a1",
        "colab": {
          "base_uri": "https://localhost:8080/",
          "height": 85
        }
      },
      "source": [
        "transitive_closure_n_hops(aj_m,3)"
      ],
      "execution_count": 156,
      "outputs": [
        {
          "output_type": "execute_result",
          "data": {
            "text/plain": [
              "matrix([[0, 0, 0, 1],\n",
              "        [0, 0, 0, 0],\n",
              "        [0, 0, 0, 0],\n",
              "        [0, 0, 0, 0]])"
            ]
          },
          "metadata": {
            "tags": []
          },
          "execution_count": 156
        }
      ]
    },
    {
      "cell_type": "code",
      "metadata": {
        "id": "9jvaTGU885Jh",
        "colab_type": "code",
        "colab": {}
      },
      "source": [
        "aj_m_2 = np.matrix([[0,math.inf,3,math.inf],\n",
        "                  [2,0,5,math.inf],\n",
        "                  [math.inf,7,0,1],\n",
        "                  [6,math.inf,9,0]])"
      ],
      "execution_count": 0,
      "outputs": []
    },
    {
      "cell_type": "code",
      "metadata": {
        "id": "kFgz87Na807V",
        "colab_type": "code",
        "colab": {}
      },
      "source": [
        "def floyd_warshall(a_graph):\n",
        "  the_len = len(a_graph)\n",
        "  #the_len = 2  # modify this to find the specific step you are looking for\n",
        "  for k in range(the_len):\n",
        "    for row in range(the_len):\n",
        "      for col in range(the_len):\n",
        "          a_graph[row,col] = min(a_graph[row,col],(a_graph[row,k] + a_graph[k,col]))\n",
        "\n",
        "  \n",
        "  print(a_graph)\n",
        "\n"
      ],
      "execution_count": 0,
      "outputs": []
    },
    {
      "cell_type": "code",
      "metadata": {
        "id": "_4rDRev6bxtV",
        "colab_type": "code",
        "outputId": "4ea37944-7711-4768-eeb0-e48fc9df26ab",
        "colab": {
          "base_uri": "https://localhost:8080/",
          "height": 85
        }
      },
      "source": [
        "floyd_warshall(aj_m_2)"
      ],
      "execution_count": 83,
      "outputs": [
        {
          "output_type": "stream",
          "text": [
            "[[ 0. 10.  3.  4.]\n",
            " [ 2.  0.  5.  6.]\n",
            " [ 7.  7.  0.  1.]\n",
            " [ 6. 16.  9.  0.]]\n"
          ],
          "name": "stdout"
        }
      ]
    },
    {
      "cell_type": "code",
      "metadata": {
        "id": "bP2h1n54KxXy",
        "colab_type": "code",
        "colab": {}
      },
      "source": [
        "aj_m_3 = np.matrix([[0,math.inf,math.inf,math.inf,-1,math.inf],\n",
        "                  [1,0,math.inf,2,math.inf,math.inf],\n",
        "                  [math.inf,2,0,math.inf,math.inf,-8],\n",
        "                  [-4,math.inf,math.inf,0,-5,math.inf],\n",
        "                  [math.inf,7,math.inf,math.inf,0,math.inf],\n",
        "                  [math.inf,5,10,math.inf,math.inf,0]])"
      ],
      "execution_count": 0,
      "outputs": []
    },
    {
      "cell_type": "code",
      "metadata": {
        "id": "1Lw9ALCSLLK_",
        "colab_type": "code",
        "colab": {
          "base_uri": "https://localhost:8080/",
          "height": 119
        },
        "outputId": "178336d8-aad0-45b5-96e0-cbb4eac3169d"
      },
      "source": [
        "floyd_warshall(aj_m_3)"
      ],
      "execution_count": 85,
      "outputs": [
        {
          "output_type": "stream",
          "text": [
            "[[ 0.  6. inf  8. -1. inf]\n",
            " [-2.  0. inf  2. -3. inf]\n",
            " [-5. -3.  0. -1. -6. -8.]\n",
            " [-4.  2. inf  0. -5. inf]\n",
            " [ 5.  7. inf  9.  0. inf]\n",
            " [ 3.  5. 10.  7.  2.  0.]]\n"
          ],
          "name": "stdout"
        }
      ]
    },
    {
      "cell_type": "code",
      "metadata": {
        "id": "AlN_qNa0LMxD",
        "colab_type": "code",
        "colab": {}
      },
      "source": [
        "aj_m_4 = np.matrix([[0,8,math.inf,math.inf],\n",
        "                  [8,0,5,3],\n",
        "                  [math.inf,5,0,6],\n",
        "                  [math.inf,3,6,0]])"
      ],
      "execution_count": 0,
      "outputs": []
    },
    {
      "cell_type": "code",
      "metadata": {
        "id": "3ybXKZVgN_Yu",
        "colab_type": "code",
        "colab": {
          "base_uri": "https://localhost:8080/",
          "height": 85
        },
        "outputId": "2934f8a5-527b-40de-deaf-a7eeb65b4a3c"
      },
      "source": [
        "floyd_warshall(aj_m_4)"
      ],
      "execution_count": 87,
      "outputs": [
        {
          "output_type": "stream",
          "text": [
            "[[ 0.  8. 13. 11.]\n",
            " [ 8.  0.  5.  3.]\n",
            " [13.  5.  0.  6.]\n",
            " [11.  3.  6.  0.]]\n"
          ],
          "name": "stdout"
        }
      ]
    },
    {
      "cell_type": "code",
      "metadata": {
        "id": "57-_dRrTOBxB",
        "colab_type": "code",
        "colab": {}
      },
      "source": [
        "aj_m_5 = np.matrix([[0,math.inf,3,math.inf],\n",
        "                  [2,0,math.inf,math.inf],\n",
        "                  [math.inf,7,0,1],\n",
        "                  [6,math.inf,math.inf,0]])"
      ],
      "execution_count": 0,
      "outputs": []
    },
    {
      "cell_type": "code",
      "metadata": {
        "id": "gYyGGNotQjFd",
        "colab_type": "code",
        "colab": {
          "base_uri": "https://localhost:8080/",
          "height": 85
        },
        "outputId": "0c26ea44-eca6-4652-8f27-19e835de248a"
      },
      "source": [
        "floyd_warshall(aj_m_5)"
      ],
      "execution_count": 89,
      "outputs": [
        {
          "output_type": "stream",
          "text": [
            "[[ 0. 10.  3.  4.]\n",
            " [ 2.  0.  5.  6.]\n",
            " [ 7.  7.  0.  1.]\n",
            " [ 6. 16.  9.  0.]]\n"
          ],
          "name": "stdout"
        }
      ]
    },
    {
      "cell_type": "code",
      "metadata": {
        "id": "OQbi1D-rTBDm",
        "colab_type": "code",
        "colab": {}
      },
      "source": [
        "aj_m_6 = np.matrix([[0,math.inf,3],\n",
        "                  [4,0,math.inf],\n",
        "                  [1,1,0]])"
      ],
      "execution_count": 0,
      "outputs": []
    },
    {
      "cell_type": "code",
      "metadata": {
        "id": "XyHH88uVTE6F",
        "colab_type": "code",
        "colab": {
          "base_uri": "https://localhost:8080/",
          "height": 68
        },
        "outputId": "f507a4de-5190-4031-954d-125436215480"
      },
      "source": [
        "floyd_warshall(aj_m_6)"
      ],
      "execution_count": 91,
      "outputs": [
        {
          "output_type": "stream",
          "text": [
            "[[0. 4. 3.]\n",
            " [4. 0. 7.]\n",
            " [1. 1. 0.]]\n"
          ],
          "name": "stdout"
        }
      ]
    }
  ]
}