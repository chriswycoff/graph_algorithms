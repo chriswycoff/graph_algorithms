{
  "nbformat": 4,
  "nbformat_minor": 0,
  "metadata": {
    "colab": {
      "name": "Matrix_graph_algorithms.ipynb",
      "provenance": [],
      "collapsed_sections": []
    },
    "kernelspec": {
      "name": "python3",
      "display_name": "Python 3"
    }
  },
  "cells": [
    {
      "cell_type": "code",
      "metadata": {
        "id": "wJ9KB1ONR5t0",
        "colab_type": "code",
        "colab": {}
      },
      "source": [
        "import numpy as np\n",
        "import matplotlib.pyplot as plt\n",
        "import math"
      ],
      "execution_count": 0,
      "outputs": []
    },
    {
      "cell_type": "code",
      "metadata": {
        "id": "qksC4ezYhPAY",
        "colab_type": "code",
        "colab": {}
      },
      "source": [
        "aj_m = np.matrix([[0,1,0,0],\n",
        "                  [1,0,0,0],\n",
        "                  [0,1,0,0],\n",
        "                  [0,0,1,0]])"
      ],
      "execution_count": 0,
      "outputs": []
    },
    {
      "cell_type": "code",
      "metadata": {
        "id": "qscRv9ofiOhB",
        "colab_type": "code",
        "colab": {
          "base_uri": "https://localhost:8080/",
          "height": 85
        },
        "outputId": "7c0dbe37-54da-4458-fe7b-03d41d002e43"
      },
      "source": [
        "aj_m"
      ],
      "execution_count": 112,
      "outputs": [
        {
          "output_type": "execute_result",
          "data": {
            "text/plain": [
              "matrix([[0, 1, 0, 0],\n",
              "        [1, 0, 0, 0],\n",
              "        [0, 1, 0, 0],\n",
              "        [0, 0, 1, 0]])"
            ]
          },
          "metadata": {
            "tags": []
          },
          "execution_count": 112
        }
      ]
    },
    {
      "cell_type": "code",
      "metadata": {
        "id": "2YgXFIsaiY8D",
        "colab_type": "code",
        "colab": {}
      },
      "source": [
        "# Transitive closure Algorithm for k-hop path\n",
        "# k-hop = N-1 outer 4 loops. This is because the original D^(1)...\n",
        "# graph represents the '1-hop' paths so e.g for N = 4 we need 3 more loops to find D^(4)\n",
        "\n",
        "def transitive_closure_n_hops(aj_m):\n",
        "  the_len = len(aj_m)\n",
        "  for i in range(the_len-1):\n",
        "    aj_m_c = np.matrix([[0,0,0,0],\n",
        "                  [0,0,0,0],\n",
        "                    [0,0,0,0],\n",
        "                    [0,0,0,0]])\n",
        "    for row in range(the_len):\n",
        "      for col in range(the_len):\n",
        "        for k in range(the_len):\n",
        "          aj_m_c[row,col] = aj_m_c[row,col] or (aj_m[row,k] and aj_m[k,col])\n",
        "    aj_m = aj_m_c\n",
        "\n",
        "  return aj_m\n",
        "\n",
        "\n",
        "  "
      ],
      "execution_count": 0,
      "outputs": []
    },
    {
      "cell_type": "code",
      "metadata": {
        "id": "RmHT5041jZv1",
        "colab_type": "code",
        "colab": {
          "base_uri": "https://localhost:8080/",
          "height": 85
        },
        "outputId": "1a4f9984-4065-4f89-fa13-e64a50882d78"
      },
      "source": [
        "transitive_closure_n_hops(aj_m)"
      ],
      "execution_count": 108,
      "outputs": [
        {
          "output_type": "execute_result",
          "data": {
            "text/plain": [
              "matrix([[1, 0, 0, 0],\n",
              "        [0, 1, 0, 0],\n",
              "        [1, 0, 0, 0],\n",
              "        [0, 1, 0, 0]])"
            ]
          },
          "metadata": {
            "tags": []
          },
          "execution_count": 108
        }
      ]
    },
    {
      "cell_type": "code",
      "metadata": {
        "id": "9jvaTGU885Jh",
        "colab_type": "code",
        "colab": {}
      },
      "source": [
        "aj_m_2 = np.matrix([[0,math.inf,3,math.inf],\n",
        "                  [2,0,5,math.inf],\n",
        "                  [math.inf,7,0,1],\n",
        "                  [6,math.inf,9,0]])"
      ],
      "execution_count": 0,
      "outputs": []
    },
    {
      "cell_type": "code",
      "metadata": {
        "id": "kFgz87Na807V",
        "colab_type": "code",
        "colab": {}
      },
      "source": [
        "def floyd_warshall(a_graph):\n",
        "  aj_m_2 = a_graph\n",
        "  the_len = len(aj_m_2)\n",
        "  for k in range(the_len):\n",
        "    for row in range(the_len):\n",
        "      for col in range(the_len):\n",
        "          aj_m_2[row,col] = min(aj_m_2[row,col],(aj_m_2[row,k] + aj_m_2[k,col]))\n",
        "\n",
        "  aj_m_2\n",
        "  print(aj_m_2)\n",
        "\n"
      ],
      "execution_count": 0,
      "outputs": []
    },
    {
      "cell_type": "code",
      "metadata": {
        "id": "_4rDRev6bxtV",
        "colab_type": "code",
        "colab": {
          "base_uri": "https://localhost:8080/",
          "height": 85
        },
        "outputId": "7d429cbe-bd23-4cf6-a97e-bae110049e94"
      },
      "source": [
        "floyd_warshall(aj_m_2)"
      ],
      "execution_count": 111,
      "outputs": [
        {
          "output_type": "stream",
          "text": [
            "[[ 0. 10.  3.  4.]\n",
            " [ 2.  0.  5.  6.]\n",
            " [ 7.  7.  0.  1.]\n",
            " [ 6. 16.  9.  0.]]\n"
          ],
          "name": "stdout"
        }
      ]
    }
  ]
}